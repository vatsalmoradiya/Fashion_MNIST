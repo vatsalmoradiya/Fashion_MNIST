{
  "nbformat": 4,
  "nbformat_minor": 0,
  "metadata": {
    "colab": {
      "name": "Fashion MNIST.ipynb",
      "provenance": []
    },
    "kernelspec": {
      "name": "python3",
      "display_name": "Python 3"
    },
    "language_info": {
      "name": "python"
    },
    "accelerator": "GPU"
  },
  "cells": [
    {
      "cell_type": "code",
      "execution_count": null,
      "metadata": {
        "id": "C-HuVjDbfUfJ"
      },
      "outputs": [],
      "source": [
        "import numpy as np\n",
        "import pandas as pd\n",
        "import seaborn as sns\n",
        "import matplotlib.pyplot as plt\n",
        "%matplotlib inline\n",
        "from tensorflow.keras.datasets import fashion_mnist\n",
        "from tensorflow.keras.utils import to_categorical\n",
        "from tensorflow.keras.models import Sequential\n",
        "from tensorflow.keras.layers import Conv2D\n",
        "from tensorflow.keras.layers import MaxPooling2D\n",
        "from tensorflow.keras.layers import Dense\n",
        "from tensorflow.keras.layers import Flatten\n",
        "from tensorflow.keras.optimizers import SGD\n",
        "from sklearn.model_selection import KFold"
      ]
    },
    {
      "cell_type": "markdown",
      "source": [
        "# Load Dataset"
      ],
      "metadata": {
        "id": "W4_tAYJMgo7j"
      }
    },
    {
      "cell_type": "code",
      "source": [
        "(trainX,trainY),(testX,testY) = fashion_mnist.load_data()\n",
        "trainX = trainX.reshape((trainX.shape[0],28,28,1))\n",
        "testX = testX.reshape((testX.shape[0],28,28,1))\n",
        "trainY = to_categorical(trainY)\n",
        "testY = to_categorical(testY)"
      ],
      "metadata": {
        "id": "6AV3ZAzlgq6X"
      },
      "execution_count": null,
      "outputs": []
    },
    {
      "cell_type": "markdown",
      "source": [
        "# Create Pixel Data of Images"
      ],
      "metadata": {
        "id": "_oUYGdCBg0Fs"
      }
    },
    {
      "cell_type": "code",
      "source": [
        "trainX = trainX.astype(\"float32\")\n",
        "testX = testX.astype(\"float32\")\n",
        "trainX = trainX/255.0\n",
        "testX = testX/255.0"
      ],
      "metadata": {
        "id": "Ubr3Qa56gzJ5"
      },
      "execution_count": null,
      "outputs": []
    },
    {
      "cell_type": "markdown",
      "source": [
        "# Defining First Model"
      ],
      "metadata": {
        "id": "KjY0mheRhP5B"
      }
    },
    {
      "cell_type": "code",
      "source": [
        "def define_model_base():\n",
        "    model = Sequential()\n",
        "    model.add(Conv2D(filters=32, kernel_size=(3,3), activation=\"relu\", kernel_initializer=\"he_uniform\", input_shape=(28,28,1)))\n",
        "    model.add(MaxPooling2D((2,2)))\n",
        "    model.add(Flatten())\n",
        "    model.add(Dense(100,activation='relu',kernel_initializer='he_uniform'))\n",
        "    model.add(Dense(10, activation='softmax'))\n",
        "    opt = SGD(learning_rate=0.01, momentum=0.9)\n",
        "    model.compile(optimizer=opt, loss=\"categorical_crossentropy\", metrics=['accuracy'])\n",
        "    return model"
      ],
      "metadata": {
        "id": "CCVKeWJMPITF"
      },
      "execution_count": null,
      "outputs": []
    },
    {
      "cell_type": "markdown",
      "source": [
        "# Train and Evaluate the model"
      ],
      "metadata": {
        "id": "TIWMTJzghd6F"
      }
    },
    {
      "cell_type": "code",
      "source": [
        "def train_evaluate_model(dataX, dataY, define_model, n_folds = 5):\n",
        "    scores, histories = list(),list()\n",
        "    kfold = KFold(n_folds, shuffle=True, random_state=1)\n",
        "    for i, (train_ix, test_ix) in enumerate(kfold.split(dataX)):\n",
        "        print(\"#Iteration \", i+1, end=\"\\n\\n\")\n",
        "        model = define_model()\n",
        "        trainX, trainY, testX, testY = dataX[train_ix], dataY[train_ix], dataX[test_ix], dataY[test_ix]\n",
        "        history = model.fit(trainX, trainY, epochs=10, batch_size=32, validation_data=(testX,testY))\n",
        "        _, acc = model.evaluate(testX,testY)\n",
        "        print(\"\\n> %.3f\" % (acc * 100.0))\n",
        "        scores.append(acc)\n",
        "        histories.append(history)\n",
        "    return scores,histories"
      ],
      "metadata": {
        "id": "a9FQi3nhPR0X"
      },
      "execution_count": null,
      "outputs": []
    },
    {
      "cell_type": "markdown",
      "source": [
        "# Performance Visualization and Summarization"
      ],
      "metadata": {
        "id": "mweklD8JiBpb"
      }
    },
    {
      "cell_type": "code",
      "source": [
        "def performance_visualization(histories):\n",
        "    for i in range(len(histories)):\n",
        "        plt.subplot(2, 1, 1)\n",
        "        plt.title(\"Cross Entropy Loss\")\n",
        "        plt.plot(histories[i].history['loss'],color='blue',label='train')\n",
        "        plt.plot(histories[i].history['val_loss'], color='orange',label='test')\n",
        "        plt.subplot(2, 1, 2)\n",
        "        plt.title('Accuracy')\n",
        "        plt.plot(histories[i].history['accuracy'],color='blue',label='train')\n",
        "        plt.plot(histories[i].history['val_accuracy'], color='orange',label='test')\n",
        "    plt.show()"
      ],
      "metadata": {
        "id": "jGjppXuAiDv2"
      },
      "execution_count": null,
      "outputs": []
    },
    {
      "cell_type": "code",
      "source": [
        "def performance_summarization(scores):\n",
        "    print(\"Accuracies: mean = %.2f, std = %.2f n = %d\" %(np.mean(scores)*100, np.std(scores), len(scores)))\n",
        "    plt.boxplot(scores)\n",
        "    plt.show()"
      ],
      "metadata": {
        "id": "RcEzFtztP9VT"
      },
      "execution_count": null,
      "outputs": []
    },
    {
      "cell_type": "markdown",
      "source": [
        "# Train First Model and Analyse it"
      ],
      "metadata": {
        "id": "tC1p_YPHQH7S"
      }
    },
    {
      "cell_type": "code",
      "source": [
        "scores_base, histories_base = train_evaluate_model(trainX,trainY, define_model_base)"
      ],
      "metadata": {
        "colab": {
          "base_uri": "https://localhost:8080/"
        },
        "id": "6ReppJTGQHSx",
        "outputId": "c6368c7f-2fa0-4b1b-97c8-1653c4f663e4"
      },
      "execution_count": null,
      "outputs": [
        {
          "output_type": "stream",
          "name": "stdout",
          "text": [
            "#Iteration  1\n",
            "\n",
            "Epoch 1/10\n",
            "1500/1500 [==============================] - 11s 5ms/step - loss: 0.4403 - accuracy: 0.8432 - val_loss: 0.3231 - val_accuracy: 0.8836\n",
            "Epoch 2/10\n",
            "1500/1500 [==============================] - 9s 6ms/step - loss: 0.2914 - accuracy: 0.8933 - val_loss: 0.2746 - val_accuracy: 0.8979\n",
            "Epoch 3/10\n",
            "1500/1500 [==============================] - 8s 5ms/step - loss: 0.2469 - accuracy: 0.9110 - val_loss: 0.2799 - val_accuracy: 0.8980\n",
            "Epoch 4/10\n",
            "1500/1500 [==============================] - 6s 4ms/step - loss: 0.2194 - accuracy: 0.9193 - val_loss: 0.2482 - val_accuracy: 0.9108\n",
            "Epoch 5/10\n",
            "1500/1500 [==============================] - 6s 4ms/step - loss: 0.1944 - accuracy: 0.9287 - val_loss: 0.2747 - val_accuracy: 0.9023\n",
            "Epoch 6/10\n",
            "1500/1500 [==============================] - 5s 3ms/step - loss: 0.1742 - accuracy: 0.9359 - val_loss: 0.2529 - val_accuracy: 0.9077\n",
            "Epoch 7/10\n",
            "1500/1500 [==============================] - 6s 4ms/step - loss: 0.1579 - accuracy: 0.9420 - val_loss: 0.2549 - val_accuracy: 0.9105\n",
            "Epoch 8/10\n",
            "1500/1500 [==============================] - 5s 3ms/step - loss: 0.1441 - accuracy: 0.9471 - val_loss: 0.2643 - val_accuracy: 0.9129\n",
            "Epoch 9/10\n",
            "1500/1500 [==============================] - 5s 3ms/step - loss: 0.1278 - accuracy: 0.9527 - val_loss: 0.2623 - val_accuracy: 0.9141\n",
            "Epoch 10/10\n",
            "1500/1500 [==============================] - 5s 3ms/step - loss: 0.1145 - accuracy: 0.9571 - val_loss: 0.2789 - val_accuracy: 0.9073\n",
            "375/375 [==============================] - 1s 2ms/step - loss: 0.2789 - accuracy: 0.9073\n",
            "\n",
            "> 90.733\n",
            "#Iteration  2\n",
            "\n",
            "Epoch 1/10\n",
            "1500/1500 [==============================] - 5s 3ms/step - loss: 0.4472 - accuracy: 0.8414 - val_loss: 0.3249 - val_accuracy: 0.8830\n",
            "Epoch 2/10\n",
            "1500/1500 [==============================] - 5s 4ms/step - loss: 0.3018 - accuracy: 0.8907 - val_loss: 0.2957 - val_accuracy: 0.8918\n",
            "Epoch 3/10\n",
            "1500/1500 [==============================] - 5s 4ms/step - loss: 0.2567 - accuracy: 0.9062 - val_loss: 0.2782 - val_accuracy: 0.9005\n",
            "Epoch 4/10\n",
            "1500/1500 [==============================] - 7s 5ms/step - loss: 0.2271 - accuracy: 0.9161 - val_loss: 0.2713 - val_accuracy: 0.8983\n",
            "Epoch 5/10\n",
            "1500/1500 [==============================] - 6s 4ms/step - loss: 0.2035 - accuracy: 0.9251 - val_loss: 0.2519 - val_accuracy: 0.9097\n",
            "Epoch 6/10\n",
            "1500/1500 [==============================] - 5s 4ms/step - loss: 0.1828 - accuracy: 0.9311 - val_loss: 0.2654 - val_accuracy: 0.9085\n",
            "Epoch 7/10\n",
            "1500/1500 [==============================] - 7s 5ms/step - loss: 0.1668 - accuracy: 0.9379 - val_loss: 0.2649 - val_accuracy: 0.9083\n",
            "Epoch 8/10\n",
            "1500/1500 [==============================] - 8s 5ms/step - loss: 0.1492 - accuracy: 0.9450 - val_loss: 0.2487 - val_accuracy: 0.9169\n",
            "Epoch 9/10\n",
            "1500/1500 [==============================] - 8s 6ms/step - loss: 0.1342 - accuracy: 0.9502 - val_loss: 0.2611 - val_accuracy: 0.9124\n",
            "Epoch 10/10\n",
            "1500/1500 [==============================] - 6s 4ms/step - loss: 0.1204 - accuracy: 0.9554 - val_loss: 0.2788 - val_accuracy: 0.9115\n",
            "375/375 [==============================] - 1s 2ms/step - loss: 0.2788 - accuracy: 0.9115\n",
            "\n",
            "> 91.150\n",
            "#Iteration  3\n",
            "\n",
            "Epoch 1/10\n",
            "1500/1500 [==============================] - 5s 3ms/step - loss: 0.4400 - accuracy: 0.8389 - val_loss: 0.3433 - val_accuracy: 0.8783\n",
            "Epoch 2/10\n",
            "1500/1500 [==============================] - 5s 3ms/step - loss: 0.2952 - accuracy: 0.8933 - val_loss: 0.3027 - val_accuracy: 0.8951\n",
            "Epoch 3/10\n",
            "1500/1500 [==============================] - 5s 4ms/step - loss: 0.2547 - accuracy: 0.9051 - val_loss: 0.2755 - val_accuracy: 0.9024\n",
            "Epoch 4/10\n",
            "1500/1500 [==============================] - 5s 3ms/step - loss: 0.2228 - accuracy: 0.9186 - val_loss: 0.2893 - val_accuracy: 0.8938\n",
            "Epoch 5/10\n",
            "1500/1500 [==============================] - 5s 3ms/step - loss: 0.1997 - accuracy: 0.9262 - val_loss: 0.2748 - val_accuracy: 0.9067\n",
            "Epoch 6/10\n",
            "1500/1500 [==============================] - 6s 4ms/step - loss: 0.1821 - accuracy: 0.9335 - val_loss: 0.2641 - val_accuracy: 0.9050\n",
            "Epoch 7/10\n",
            "1500/1500 [==============================] - 6s 4ms/step - loss: 0.1659 - accuracy: 0.9383 - val_loss: 0.2893 - val_accuracy: 0.8982\n",
            "Epoch 8/10\n",
            "1500/1500 [==============================] - 5s 4ms/step - loss: 0.1507 - accuracy: 0.9444 - val_loss: 0.2539 - val_accuracy: 0.9139\n",
            "Epoch 9/10\n",
            "1500/1500 [==============================] - 5s 3ms/step - loss: 0.1324 - accuracy: 0.9507 - val_loss: 0.2607 - val_accuracy: 0.9126\n",
            "Epoch 10/10\n",
            "1500/1500 [==============================] - 5s 4ms/step - loss: 0.1229 - accuracy: 0.9548 - val_loss: 0.2732 - val_accuracy: 0.9094\n",
            "375/375 [==============================] - 1s 2ms/step - loss: 0.2732 - accuracy: 0.9094\n",
            "\n",
            "> 90.942\n",
            "#Iteration  4\n",
            "\n",
            "Epoch 1/10\n",
            "1500/1500 [==============================] - 5s 3ms/step - loss: 0.4264 - accuracy: 0.8461 - val_loss: 0.3186 - val_accuracy: 0.8844\n",
            "Epoch 2/10\n",
            "1500/1500 [==============================] - 5s 3ms/step - loss: 0.2841 - accuracy: 0.8970 - val_loss: 0.2803 - val_accuracy: 0.8914\n",
            "Epoch 3/10\n",
            "1500/1500 [==============================] - 6s 4ms/step - loss: 0.2408 - accuracy: 0.9122 - val_loss: 0.2768 - val_accuracy: 0.8978\n",
            "Epoch 4/10\n",
            "1500/1500 [==============================] - 6s 4ms/step - loss: 0.2113 - accuracy: 0.9222 - val_loss: 0.2703 - val_accuracy: 0.9032\n",
            "Epoch 5/10\n",
            "1500/1500 [==============================] - 5s 3ms/step - loss: 0.1848 - accuracy: 0.9325 - val_loss: 0.2592 - val_accuracy: 0.9071\n",
            "Epoch 6/10\n",
            "1500/1500 [==============================] - 5s 3ms/step - loss: 0.1667 - accuracy: 0.9388 - val_loss: 0.2591 - val_accuracy: 0.9099\n",
            "Epoch 7/10\n",
            "1500/1500 [==============================] - 5s 4ms/step - loss: 0.1506 - accuracy: 0.9444 - val_loss: 0.2825 - val_accuracy: 0.9001\n",
            "Epoch 8/10\n",
            "1500/1500 [==============================] - 5s 4ms/step - loss: 0.1340 - accuracy: 0.9501 - val_loss: 0.2540 - val_accuracy: 0.9145\n",
            "Epoch 9/10\n",
            "1500/1500 [==============================] - 5s 4ms/step - loss: 0.1185 - accuracy: 0.9557 - val_loss: 0.2838 - val_accuracy: 0.9064\n",
            "Epoch 10/10\n",
            "1500/1500 [==============================] - 6s 4ms/step - loss: 0.1057 - accuracy: 0.9607 - val_loss: 0.2692 - val_accuracy: 0.9142\n",
            "375/375 [==============================] - 1s 2ms/step - loss: 0.2692 - accuracy: 0.9142\n",
            "\n",
            "> 91.417\n",
            "#Iteration  5\n",
            "\n",
            "Epoch 1/10\n",
            "1500/1500 [==============================] - 6s 4ms/step - loss: 0.4505 - accuracy: 0.8378 - val_loss: 0.3522 - val_accuracy: 0.8708\n",
            "Epoch 2/10\n",
            "1500/1500 [==============================] - 6s 4ms/step - loss: 0.2966 - accuracy: 0.8928 - val_loss: 0.3005 - val_accuracy: 0.8926\n",
            "Epoch 3/10\n",
            "1500/1500 [==============================] - 5s 4ms/step - loss: 0.2538 - accuracy: 0.9056 - val_loss: 0.2736 - val_accuracy: 0.9020\n",
            "Epoch 4/10\n",
            "1500/1500 [==============================] - 5s 3ms/step - loss: 0.2228 - accuracy: 0.9164 - val_loss: 0.2538 - val_accuracy: 0.9107\n",
            "Epoch 5/10\n",
            "1500/1500 [==============================] - 5s 3ms/step - loss: 0.1980 - accuracy: 0.9261 - val_loss: 0.2616 - val_accuracy: 0.9065\n",
            "Epoch 6/10\n",
            "1500/1500 [==============================] - 5s 4ms/step - loss: 0.1778 - accuracy: 0.9332 - val_loss: 0.2595 - val_accuracy: 0.9112\n",
            "Epoch 7/10\n",
            "1500/1500 [==============================] - 6s 4ms/step - loss: 0.1604 - accuracy: 0.9402 - val_loss: 0.2698 - val_accuracy: 0.9065\n",
            "Epoch 8/10\n",
            "1500/1500 [==============================] - 5s 3ms/step - loss: 0.1441 - accuracy: 0.9468 - val_loss: 0.3074 - val_accuracy: 0.8993\n",
            "Epoch 9/10\n",
            "1500/1500 [==============================] - 5s 3ms/step - loss: 0.1311 - accuracy: 0.9523 - val_loss: 0.2798 - val_accuracy: 0.9093\n",
            "Epoch 10/10\n",
            "1500/1500 [==============================] - 5s 3ms/step - loss: 0.1163 - accuracy: 0.9571 - val_loss: 0.2981 - val_accuracy: 0.9045\n",
            "375/375 [==============================] - 1s 2ms/step - loss: 0.2981 - accuracy: 0.9045\n",
            "\n",
            "> 90.450\n"
          ]
        }
      ]
    },
    {
      "cell_type": "code",
      "source": [
        "performance_visualization(histories_base)"
      ],
      "metadata": {
        "colab": {
          "base_uri": "https://localhost:8080/",
          "height": 370
        },
        "id": "ragQiejYRCZ7",
        "outputId": "eeb1eb8b-34cb-479b-8207-30cf21202224"
      },
      "execution_count": null,
      "outputs": [
        {
          "output_type": "stream",
          "name": "stderr",
          "text": [
            "/usr/local/lib/python3.7/dist-packages/ipykernel_launcher.py:3: MatplotlibDeprecationWarning: Adding an axes using the same arguments as a previous axes currently reuses the earlier instance.  In a future version, a new instance will always be created and returned.  Meanwhile, this warning can be suppressed, and the future behavior ensured, by passing a unique label to each axes instance.\n",
            "  This is separate from the ipykernel package so we can avoid doing imports until\n",
            "/usr/local/lib/python3.7/dist-packages/ipykernel_launcher.py:7: MatplotlibDeprecationWarning: Adding an axes using the same arguments as a previous axes currently reuses the earlier instance.  In a future version, a new instance will always be created and returned.  Meanwhile, this warning can be suppressed, and the future behavior ensured, by passing a unique label to each axes instance.\n",
            "  import sys\n"
          ]
        },
        {
          "output_type": "display_data",
          "data": {
            "image/png": "[encoded data removed]",
            "text/plain": [
              "<Figure size 432x288 with 2 Axes>"
            ]
          },
          "metadata": {
            "needs_background": "light"
          }
        }
      ]
    },
    {
      "cell_type": "code",
      "source": [
        "performance_summarization(scores_base)"
      ],
      "metadata": {
        "colab": {
          "base_uri": "https://localhost:8080/",
          "height": 282
        },
        "id": "wIAEDGSERHv1",
        "outputId": "9f5ef5cd-a04f-40e8-b8f7-960aa41058ce"
      },
      "execution_count": null,
      "outputs": [
        {
          "output_type": "stream",
          "name": "stdout",
          "text": [
            "Accuracies: mean = 90.94, std = 0.00 n = 5\n"
          ]
        },
        {
          "output_type": "display_data",
          "data": {
            "image/png": "[encoded data removed]",
            "text/plain": [
              "<Figure size 432x288 with 1 Axes>"
            ]
          },
          "metadata": {
            "needs_background": "light"
          }
        }
      ]
    },
    {
      "cell_type": "markdown",
      "source": [
        "# Improvised Model 1"
      ],
      "metadata": {
        "id": "uw-6lmVhSN94"
      }
    },
    {
      "cell_type": "code",
      "source": [
        "def define_model_improved_1():\n",
        "    model = Sequential()\n",
        "    model.add(Conv2D(32,(3,3), padding='same', activation='relu',kernel_initializer='he_uniform', input_shape=(28,28,1)))\n",
        "    model.add(MaxPooling2D(2,2))\n",
        "    model.add(Flatten())\n",
        "    model.add(Dense(100, activation='relu', kernel_initializer='he_uniform'))\n",
        "    model.add(Dense(10, activation='softmax'))\n",
        "    opt = SGD(learning_rate=0.01, momentum=0.9)\n",
        "    model.compile(optimizer=opt, loss='categorical_crossentropy', metrics=['accuracy'])\n",
        "    return model"
      ],
      "metadata": {
        "id": "RUTJ6Sd5SMc_"
      },
      "execution_count": null,
      "outputs": []
    },
    {
      "cell_type": "code",
      "source": [
        "scores_improved_1, histories_improved_1 = train_evaluate_model(trainX,trainY, define_model_improved_1)"
      ],
      "metadata": {
        "colab": {
          "base_uri": "https://localhost:8080/"
        },
        "id": "dOhbKZHMSX-L",
        "outputId": "0c80207f-cf76-4e7b-a573-d853de2c887a"
      },
      "execution_count": null,
      "outputs": [
        {
          "output_type": "stream",
          "name": "stdout",
          "text": [
            "#Iteration  1\n",
            "\n",
            "Epoch 1/10\n",
            "1500/1500 [==============================] - 6s 4ms/step - loss: 0.4474 - accuracy: 0.8401 - val_loss: 0.3316 - val_accuracy: 0.8794\n",
            "Epoch 2/10\n",
            "1500/1500 [==============================] - 5s 3ms/step - loss: 0.2994 - accuracy: 0.8919 - val_loss: 0.3143 - val_accuracy: 0.8849\n",
            "Epoch 3/10\n",
            "1500/1500 [==============================] - 5s 4ms/step - loss: 0.2573 - accuracy: 0.9058 - val_loss: 0.2756 - val_accuracy: 0.8973\n",
            "Epoch 4/10\n",
            "1500/1500 [==============================] - 5s 3ms/step - loss: 0.2268 - accuracy: 0.9166 - val_loss: 0.2618 - val_accuracy: 0.9057\n",
            "Epoch 5/10\n",
            "1500/1500 [==============================] - 5s 4ms/step - loss: 0.2006 - accuracy: 0.9271 - val_loss: 0.2527 - val_accuracy: 0.9082\n",
            "Epoch 6/10\n",
            "1500/1500 [==============================] - 5s 3ms/step - loss: 0.1823 - accuracy: 0.9328 - val_loss: 0.2525 - val_accuracy: 0.9095\n",
            "Epoch 7/10\n",
            "1500/1500 [==============================] - 5s 3ms/step - loss: 0.1614 - accuracy: 0.9410 - val_loss: 0.2698 - val_accuracy: 0.9032\n",
            "Epoch 8/10\n",
            "1500/1500 [==============================] - 5s 4ms/step - loss: 0.1456 - accuracy: 0.9467 - val_loss: 0.2727 - val_accuracy: 0.9075\n",
            "Epoch 9/10\n",
            "1500/1500 [==============================] - 5s 3ms/step - loss: 0.1346 - accuracy: 0.9505 - val_loss: 0.2539 - val_accuracy: 0.9130\n",
            "Epoch 10/10\n",
            "1500/1500 [==============================] - 5s 3ms/step - loss: 0.1182 - accuracy: 0.9562 - val_loss: 0.2804 - val_accuracy: 0.9088\n",
            "375/375 [==============================] - 1s 2ms/step - loss: 0.2804 - accuracy: 0.9088\n",
            "\n",
            "> 90.883\n",
            "#Iteration  2\n",
            "\n",
            "Epoch 1/10\n",
            "1500/1500 [==============================] - 6s 4ms/step - loss: 0.4500 - accuracy: 0.8387 - val_loss: 0.3142 - val_accuracy: 0.8898\n",
            "Epoch 2/10\n",
            "1500/1500 [==============================] - 5s 4ms/step - loss: 0.2966 - accuracy: 0.8923 - val_loss: 0.2864 - val_accuracy: 0.8973\n",
            "Epoch 3/10\n",
            "1500/1500 [==============================] - 5s 3ms/step - loss: 0.2556 - accuracy: 0.9077 - val_loss: 0.2812 - val_accuracy: 0.9002\n",
            "Epoch 4/10\n",
            "1500/1500 [==============================] - 5s 3ms/step - loss: 0.2280 - accuracy: 0.9166 - val_loss: 0.2734 - val_accuracy: 0.8999\n",
            "Epoch 5/10\n",
            "1500/1500 [==============================] - 5s 3ms/step - loss: 0.2010 - accuracy: 0.9259 - val_loss: 0.2500 - val_accuracy: 0.9103\n",
            "Epoch 6/10\n",
            "1500/1500 [==============================] - 5s 4ms/step - loss: 0.1808 - accuracy: 0.9332 - val_loss: 0.2540 - val_accuracy: 0.9121\n",
            "Epoch 7/10\n",
            "1500/1500 [==============================] - 5s 4ms/step - loss: 0.1660 - accuracy: 0.9385 - val_loss: 0.2722 - val_accuracy: 0.9058\n",
            "Epoch 8/10\n",
            "1500/1500 [==============================] - 5s 3ms/step - loss: 0.1479 - accuracy: 0.9459 - val_loss: 0.2628 - val_accuracy: 0.9084\n",
            "Epoch 9/10\n",
            "1500/1500 [==============================] - 5s 4ms/step - loss: 0.1337 - accuracy: 0.9514 - val_loss: 0.2569 - val_accuracy: 0.9127\n",
            "Epoch 10/10\n",
            "1500/1500 [==============================] - 5s 4ms/step - loss: 0.1202 - accuracy: 0.9563 - val_loss: 0.2550 - val_accuracy: 0.9147\n",
            "375/375 [==============================] - 1s 2ms/step - loss: 0.2550 - accuracy: 0.9147\n",
            "\n",
            "> 91.467\n",
            "#Iteration  3\n",
            "\n",
            "Epoch 1/10\n",
            "1500/1500 [==============================] - 6s 4ms/step - loss: 0.4372 - accuracy: 0.8424 - val_loss: 0.3322 - val_accuracy: 0.8838\n",
            "Epoch 2/10\n",
            "1500/1500 [==============================] - 5s 4ms/step - loss: 0.2922 - accuracy: 0.8937 - val_loss: 0.3182 - val_accuracy: 0.8857\n",
            "Epoch 3/10\n",
            "1500/1500 [==============================] - 5s 3ms/step - loss: 0.2501 - accuracy: 0.9075 - val_loss: 0.2802 - val_accuracy: 0.9011\n",
            "Epoch 4/10\n",
            "1500/1500 [==============================] - 5s 3ms/step - loss: 0.2197 - accuracy: 0.9194 - val_loss: 0.2631 - val_accuracy: 0.9062\n",
            "Epoch 5/10\n",
            "1500/1500 [==============================] - 5s 4ms/step - loss: 0.1983 - accuracy: 0.9262 - val_loss: 0.2576 - val_accuracy: 0.9093\n",
            "Epoch 6/10\n",
            "1500/1500 [==============================] - 5s 3ms/step - loss: 0.1767 - accuracy: 0.9345 - val_loss: 0.2638 - val_accuracy: 0.9095\n",
            "Epoch 7/10\n",
            "1500/1500 [==============================] - 5s 3ms/step - loss: 0.1608 - accuracy: 0.9409 - val_loss: 0.2584 - val_accuracy: 0.9111\n",
            "Epoch 8/10\n",
            "1500/1500 [==============================] - 5s 3ms/step - loss: 0.1435 - accuracy: 0.9471 - val_loss: 0.2528 - val_accuracy: 0.9121\n",
            "Epoch 9/10\n",
            "1500/1500 [==============================] - 5s 4ms/step - loss: 0.1291 - accuracy: 0.9525 - val_loss: 0.2737 - val_accuracy: 0.9062\n",
            "Epoch 10/10\n",
            "1500/1500 [==============================] - 5s 3ms/step - loss: 0.1188 - accuracy: 0.9552 - val_loss: 0.2552 - val_accuracy: 0.9183\n",
            "375/375 [==============================] - 1s 2ms/step - loss: 0.2552 - accuracy: 0.9183\n",
            "\n",
            "> 91.825\n",
            "#Iteration  4\n",
            "\n",
            "Epoch 1/10\n",
            "1500/1500 [==============================] - 6s 4ms/step - loss: 0.4443 - accuracy: 0.8396 - val_loss: 0.3148 - val_accuracy: 0.8842\n",
            "Epoch 2/10\n",
            "1500/1500 [==============================] - 5s 4ms/step - loss: 0.2950 - accuracy: 0.8921 - val_loss: 0.2884 - val_accuracy: 0.8950\n",
            "Epoch 3/10\n",
            "1500/1500 [==============================] - 5s 4ms/step - loss: 0.2458 - accuracy: 0.9087 - val_loss: 0.2654 - val_accuracy: 0.9007\n",
            "Epoch 4/10\n",
            "1500/1500 [==============================] - 5s 4ms/step - loss: 0.2210 - accuracy: 0.9183 - val_loss: 0.2548 - val_accuracy: 0.9061\n",
            "Epoch 5/10\n",
            "1500/1500 [==============================] - 5s 4ms/step - loss: 0.1982 - accuracy: 0.9265 - val_loss: 0.3159 - val_accuracy: 0.8933\n",
            "Epoch 6/10\n",
            "1500/1500 [==============================] - 5s 3ms/step - loss: 0.1789 - accuracy: 0.9336 - val_loss: 0.2616 - val_accuracy: 0.9084\n",
            "Epoch 7/10\n",
            "1500/1500 [==============================] - 5s 3ms/step - loss: 0.1602 - accuracy: 0.9411 - val_loss: 0.2590 - val_accuracy: 0.9102\n",
            "Epoch 8/10\n",
            "1500/1500 [==============================] - 5s 4ms/step - loss: 0.1451 - accuracy: 0.9476 - val_loss: 0.2717 - val_accuracy: 0.9112\n",
            "Epoch 9/10\n",
            "1500/1500 [==============================] - 5s 4ms/step - loss: 0.1303 - accuracy: 0.9518 - val_loss: 0.2729 - val_accuracy: 0.9106\n",
            "Epoch 10/10\n",
            "1500/1500 [==============================] - 5s 4ms/step - loss: 0.1184 - accuracy: 0.9564 - val_loss: 0.2712 - val_accuracy: 0.9141\n",
            "375/375 [==============================] - 1s 2ms/step - loss: 0.2712 - accuracy: 0.9141\n",
            "\n",
            "> 91.408\n",
            "#Iteration  5\n",
            "\n",
            "Epoch 1/10\n",
            "1500/1500 [==============================] - 6s 4ms/step - loss: 0.4226 - accuracy: 0.8482 - val_loss: 0.3282 - val_accuracy: 0.8829\n",
            "Epoch 2/10\n",
            "1500/1500 [==============================] - 6s 4ms/step - loss: 0.2880 - accuracy: 0.8952 - val_loss: 0.2938 - val_accuracy: 0.8950\n",
            "Epoch 3/10\n",
            "1500/1500 [==============================] - 5s 3ms/step - loss: 0.2479 - accuracy: 0.9102 - val_loss: 0.2652 - val_accuracy: 0.9051\n",
            "Epoch 4/10\n",
            "1500/1500 [==============================] - 5s 3ms/step - loss: 0.2176 - accuracy: 0.9187 - val_loss: 0.2585 - val_accuracy: 0.9107\n",
            "Epoch 5/10\n",
            "1500/1500 [==============================] - 5s 4ms/step - loss: 0.1945 - accuracy: 0.9285 - val_loss: 0.2529 - val_accuracy: 0.9097\n",
            "Epoch 6/10\n",
            "1500/1500 [==============================] - 5s 4ms/step - loss: 0.1752 - accuracy: 0.9338 - val_loss: 0.2567 - val_accuracy: 0.9097\n",
            "Epoch 7/10\n",
            "1500/1500 [==============================] - 5s 3ms/step - loss: 0.1582 - accuracy: 0.9418 - val_loss: 0.2490 - val_accuracy: 0.9154\n",
            "Epoch 8/10\n",
            "1500/1500 [==============================] - 5s 3ms/step - loss: 0.1453 - accuracy: 0.9462 - val_loss: 0.2548 - val_accuracy: 0.9113\n",
            "Epoch 9/10\n",
            "1500/1500 [==============================] - 5s 4ms/step - loss: 0.1293 - accuracy: 0.9524 - val_loss: 0.2645 - val_accuracy: 0.9109\n",
            "Epoch 10/10\n",
            "1500/1500 [==============================] - 5s 3ms/step - loss: 0.1191 - accuracy: 0.9572 - val_loss: 0.2646 - val_accuracy: 0.9148\n",
            "375/375 [==============================] - 1s 2ms/step - loss: 0.2646 - accuracy: 0.9148\n",
            "\n",
            "> 91.483\n"
          ]
        }
      ]
    },
    {
      "cell_type": "code",
      "source": [
        "performance_visualization(histories_improved_1)"
      ],
      "metadata": {
        "colab": {
          "base_uri": "https://localhost:8080/",
          "height": 370
        },
        "id": "xwyhgzWsSkdo",
        "outputId": "1150f46f-abfb-410d-bae0-bb6ed82eba4d"
      },
      "execution_count": null,
      "outputs": [
        {
          "output_type": "stream",
          "name": "stderr",
          "text": [
            "/usr/local/lib/python3.7/dist-packages/ipykernel_launcher.py:3: MatplotlibDeprecationWarning: Adding an axes using the same arguments as a previous axes currently reuses the earlier instance.  In a future version, a new instance will always be created and returned.  Meanwhile, this warning can be suppressed, and the future behavior ensured, by passing a unique label to each axes instance.\n",
            "  This is separate from the ipykernel package so we can avoid doing imports until\n",
            "/usr/local/lib/python3.7/dist-packages/ipykernel_launcher.py:7: MatplotlibDeprecationWarning: Adding an axes using the same arguments as a previous axes currently reuses the earlier instance.  In a future version, a new instance will always be created and returned.  Meanwhile, this warning can be suppressed, and the future behavior ensured, by passing a unique label to each axes instance.\n",
            "  import sys\n"
          ]
        },
        {
          "output_type": "display_data",
          "data": {
            "image/png": "[encoded data removed]",
            "text/plain": [
              "<Figure size 432x288 with 2 Axes>"
            ]
          },
          "metadata": {
            "needs_background": "light"
          }
        }
      ]
    },
    {
      "cell_type": "code",
      "source": [
        "performance_summarization(scores_improved_1)"
      ],
      "metadata": {
        "colab": {
          "base_uri": "https://localhost:8080/",
          "height": 282
        },
        "id": "m240iA8xSqaH",
        "outputId": "484dcfab-6e2c-4328-f47f-34b1ac9e38aa"
      },
      "execution_count": null,
      "outputs": [
        {
          "output_type": "stream",
          "name": "stdout",
          "text": [
            "Accuracies: mean = 91.41, std = 0.00 n = 5\n"
          ]
        },
        {
          "output_type": "display_data",
          "data": {
            "image/png": "[encoded data removed]",
            "text/plain": [
              "<Figure size 432x288 with 1 Axes>"
            ]
          },
          "metadata": {
            "needs_background": "light"
          }
        }
      ]
    },
    {
      "cell_type": "markdown",
      "source": [
        "# Improvised Model 2"
      ],
      "metadata": {
        "id": "bOEue29hTmvs"
      }
    },
    {
      "cell_type": "code",
      "source": [
        "def define_model_improved_2():\n",
        "    model = Sequential()\n",
        "    model.add(Conv2D(32,(3,3), padding='same', activation='relu', kernel_initializer='he_uniform', input_shape=(28,28,1)))\n",
        "    model.add(MaxPooling2D((2,2)))\n",
        "    model.add(Conv2D(64, (3,3), padding='same', activation='relu', kernel_initializer='he_uniform'))\n",
        "    model.add(Conv2D(64, (3,3), padding='same', activation='relu', kernel_initializer='he_uniform'))\n",
        "    model.add(MaxPooling2D((2,2)))\n",
        "    model.add(Flatten())\n",
        "    model.add(Dense(100, activation='relu', kernel_initializer='he_uniform'))\n",
        "    model.add(Dense(10, activation='softmax'))\n",
        "    opt = SGD(learning_rate=0.01, momentum=0.9)\n",
        "    model.compile(optimizer=opt, loss='categorical_crossentropy', metrics=['accuracy'])\n",
        "    return model"
      ],
      "metadata": {
        "id": "lsm0vq55Tmvt"
      },
      "execution_count": null,
      "outputs": []
    },
    {
      "cell_type": "code",
      "source": [
        "scores_improved_2, histories_improved_2 = train_evaluate_model(trainX,trainY, define_model_improved_2)"
      ],
      "metadata": {
        "colab": {
          "base_uri": "https://localhost:8080/"
        },
        "id": "e-XFupzGTmvu",
        "outputId": "ba65a7e1-3feb-4c25-969e-6ab4f6ef0cb6"
      },
      "execution_count": null,
      "outputs": [
        {
          "output_type": "stream",
          "name": "stdout",
          "text": [
            "#Iteration  1\n",
            "\n",
            "Epoch 1/10\n",
            "1500/1500 [==============================] - 7s 4ms/step - loss: 0.4405 - accuracy: 0.8409 - val_loss: 0.2978 - val_accuracy: 0.8908\n",
            "Epoch 2/10\n",
            "1500/1500 [==============================] - 6s 4ms/step - loss: 0.2810 - accuracy: 0.8969 - val_loss: 0.2693 - val_accuracy: 0.9018\n",
            "Epoch 3/10\n",
            "1500/1500 [==============================] - 6s 4ms/step - loss: 0.2334 - accuracy: 0.9150 - val_loss: 0.2510 - val_accuracy: 0.9043\n",
            "Epoch 4/10\n",
            "1500/1500 [==============================] - 7s 4ms/step - loss: 0.2059 - accuracy: 0.9246 - val_loss: 0.2454 - val_accuracy: 0.9107\n",
            "Epoch 5/10\n",
            "1500/1500 [==============================] - 7s 4ms/step - loss: 0.1790 - accuracy: 0.9334 - val_loss: 0.2556 - val_accuracy: 0.9093\n",
            "Epoch 6/10\n",
            "1500/1500 [==============================] - 7s 4ms/step - loss: 0.1603 - accuracy: 0.9408 - val_loss: 0.2271 - val_accuracy: 0.9170\n",
            "Epoch 7/10\n",
            "1500/1500 [==============================] - 7s 4ms/step - loss: 0.1404 - accuracy: 0.9476 - val_loss: 0.2446 - val_accuracy: 0.9149\n",
            "Epoch 8/10\n",
            "1500/1500 [==============================] - 7s 4ms/step - loss: 0.1239 - accuracy: 0.9530 - val_loss: 0.2467 - val_accuracy: 0.9166\n",
            "Epoch 9/10\n",
            "1500/1500 [==============================] - 7s 4ms/step - loss: 0.1080 - accuracy: 0.9595 - val_loss: 0.2483 - val_accuracy: 0.9191\n",
            "Epoch 10/10\n",
            "1500/1500 [==============================] - 7s 4ms/step - loss: 0.0929 - accuracy: 0.9662 - val_loss: 0.2840 - val_accuracy: 0.9147\n",
            "375/375 [==============================] - 1s 2ms/step - loss: 0.2840 - accuracy: 0.9147\n",
            "\n",
            "> 91.475\n",
            "#Iteration  2\n",
            "\n",
            "Epoch 1/10\n",
            "1500/1500 [==============================] - 7s 4ms/step - loss: 0.4325 - accuracy: 0.8435 - val_loss: 0.3733 - val_accuracy: 0.8658\n",
            "Epoch 2/10\n",
            "1500/1500 [==============================] - 6s 4ms/step - loss: 0.2822 - accuracy: 0.8981 - val_loss: 0.2754 - val_accuracy: 0.8987\n",
            "Epoch 3/10\n",
            "1500/1500 [==============================] - 6s 4ms/step - loss: 0.2361 - accuracy: 0.9125 - val_loss: 0.2461 - val_accuracy: 0.9103\n",
            "Epoch 4/10\n",
            "1500/1500 [==============================] - 7s 4ms/step - loss: 0.2045 - accuracy: 0.9249 - val_loss: 0.2306 - val_accuracy: 0.9158\n",
            "Epoch 5/10\n",
            "1500/1500 [==============================] - 7s 4ms/step - loss: 0.1794 - accuracy: 0.9321 - val_loss: 0.2245 - val_accuracy: 0.9229\n",
            "Epoch 6/10\n",
            "1500/1500 [==============================] - 6s 4ms/step - loss: 0.1559 - accuracy: 0.9430 - val_loss: 0.2441 - val_accuracy: 0.9117\n",
            "Epoch 7/10\n",
            "1500/1500 [==============================] - 7s 4ms/step - loss: 0.1382 - accuracy: 0.9485 - val_loss: 0.2371 - val_accuracy: 0.9186\n",
            "Epoch 8/10\n",
            "1500/1500 [==============================] - 7s 4ms/step - loss: 0.1208 - accuracy: 0.9548 - val_loss: 0.2432 - val_accuracy: 0.9207\n",
            "Epoch 9/10\n",
            "1500/1500 [==============================] - 6s 4ms/step - loss: 0.1073 - accuracy: 0.9597 - val_loss: 0.2537 - val_accuracy: 0.9201\n",
            "Epoch 10/10\n",
            "1500/1500 [==============================] - 6s 4ms/step - loss: 0.0926 - accuracy: 0.9650 - val_loss: 0.2870 - val_accuracy: 0.9097\n",
            "375/375 [==============================] - 1s 3ms/step - loss: 0.2870 - accuracy: 0.9097\n",
            "\n",
            "> 90.975\n",
            "#Iteration  3\n",
            "\n",
            "Epoch 1/10\n",
            "1500/1500 [==============================] - 7s 5ms/step - loss: 0.4309 - accuracy: 0.8430 - val_loss: 0.3078 - val_accuracy: 0.8921\n",
            "Epoch 2/10\n",
            "1500/1500 [==============================] - 7s 4ms/step - loss: 0.2782 - accuracy: 0.8982 - val_loss: 0.2581 - val_accuracy: 0.9043\n",
            "Epoch 3/10\n",
            "1500/1500 [==============================] - 7s 4ms/step - loss: 0.2327 - accuracy: 0.9156 - val_loss: 0.2390 - val_accuracy: 0.9152\n",
            "Epoch 4/10\n",
            "1500/1500 [==============================] - 6s 4ms/step - loss: 0.2036 - accuracy: 0.9248 - val_loss: 0.2338 - val_accuracy: 0.9139\n",
            "Epoch 5/10\n",
            "1500/1500 [==============================] - 6s 4ms/step - loss: 0.1773 - accuracy: 0.9346 - val_loss: 0.2374 - val_accuracy: 0.9141\n",
            "Epoch 6/10\n",
            "1500/1500 [==============================] - 7s 4ms/step - loss: 0.1545 - accuracy: 0.9432 - val_loss: 0.2289 - val_accuracy: 0.9182\n",
            "Epoch 7/10\n",
            "1500/1500 [==============================] - 7s 4ms/step - loss: 0.1393 - accuracy: 0.9488 - val_loss: 0.2319 - val_accuracy: 0.9218\n",
            "Epoch 8/10\n",
            "1500/1500 [==============================] - 7s 4ms/step - loss: 0.1217 - accuracy: 0.9542 - val_loss: 0.2546 - val_accuracy: 0.9191\n",
            "Epoch 9/10\n",
            "1500/1500 [==============================] - 7s 4ms/step - loss: 0.1073 - accuracy: 0.9590 - val_loss: 0.2365 - val_accuracy: 0.9197\n",
            "Epoch 10/10\n",
            "1500/1500 [==============================] - 7s 4ms/step - loss: 0.0939 - accuracy: 0.9650 - val_loss: 0.2568 - val_accuracy: 0.9181\n",
            "375/375 [==============================] - 1s 3ms/step - loss: 0.2568 - accuracy: 0.9181\n",
            "\n",
            "> 91.808\n",
            "#Iteration  4\n",
            "\n",
            "Epoch 1/10\n",
            "1500/1500 [==============================] - 7s 5ms/step - loss: 0.4266 - accuracy: 0.8443 - val_loss: 0.3322 - val_accuracy: 0.8791\n",
            "Epoch 2/10\n",
            "1500/1500 [==============================] - 6s 4ms/step - loss: 0.2756 - accuracy: 0.8988 - val_loss: 0.2659 - val_accuracy: 0.9011\n",
            "Epoch 3/10\n",
            "1500/1500 [==============================] - 7s 4ms/step - loss: 0.2282 - accuracy: 0.9162 - val_loss: 0.2646 - val_accuracy: 0.9031\n",
            "Epoch 4/10\n",
            "1500/1500 [==============================] - 7s 5ms/step - loss: 0.1966 - accuracy: 0.9276 - val_loss: 0.2384 - val_accuracy: 0.9153\n",
            "Epoch 5/10\n",
            "1500/1500 [==============================] - 6s 4ms/step - loss: 0.1718 - accuracy: 0.9375 - val_loss: 0.2584 - val_accuracy: 0.9085\n",
            "Epoch 6/10\n",
            "1500/1500 [==============================] - 6s 4ms/step - loss: 0.1529 - accuracy: 0.9426 - val_loss: 0.2490 - val_accuracy: 0.9166\n",
            "Epoch 7/10\n",
            "1500/1500 [==============================] - 6s 4ms/step - loss: 0.1313 - accuracy: 0.9517 - val_loss: 0.2686 - val_accuracy: 0.9072\n",
            "Epoch 8/10\n",
            "1500/1500 [==============================] - 7s 5ms/step - loss: 0.1160 - accuracy: 0.9564 - val_loss: 0.2609 - val_accuracy: 0.9193\n",
            "Epoch 9/10\n",
            "1500/1500 [==============================] - 6s 4ms/step - loss: 0.1001 - accuracy: 0.9627 - val_loss: 0.2761 - val_accuracy: 0.9152\n",
            "Epoch 10/10\n",
            "1500/1500 [==============================] - 7s 4ms/step - loss: 0.0864 - accuracy: 0.9681 - val_loss: 0.3052 - val_accuracy: 0.9108\n",
            "375/375 [==============================] - 1s 3ms/step - loss: 0.3052 - accuracy: 0.9108\n",
            "\n",
            "> 91.083\n",
            "#Iteration  5\n",
            "\n",
            "Epoch 1/10\n",
            "1500/1500 [==============================] - 7s 5ms/step - loss: 0.4555 - accuracy: 0.8343 - val_loss: 0.3140 - val_accuracy: 0.8858\n",
            "Epoch 2/10\n",
            "1500/1500 [==============================] - 7s 4ms/step - loss: 0.2916 - accuracy: 0.8924 - val_loss: 0.2840 - val_accuracy: 0.8967\n",
            "Epoch 3/10\n",
            "1500/1500 [==============================] - 7s 4ms/step - loss: 0.2448 - accuracy: 0.9085 - val_loss: 0.2710 - val_accuracy: 0.8995\n",
            "Epoch 4/10\n",
            "1500/1500 [==============================] - 6s 4ms/step - loss: 0.2121 - accuracy: 0.9208 - val_loss: 0.2608 - val_accuracy: 0.9055\n",
            "Epoch 5/10\n",
            "1500/1500 [==============================] - 6s 4ms/step - loss: 0.1902 - accuracy: 0.9290 - val_loss: 0.2572 - val_accuracy: 0.9084\n",
            "Epoch 6/10\n",
            "1500/1500 [==============================] - 7s 4ms/step - loss: 0.1678 - accuracy: 0.9379 - val_loss: 0.2366 - val_accuracy: 0.9156\n",
            "Epoch 7/10\n",
            "1500/1500 [==============================] - 7s 4ms/step - loss: 0.1532 - accuracy: 0.9423 - val_loss: 0.2445 - val_accuracy: 0.9147\n",
            "Epoch 8/10\n",
            "1500/1500 [==============================] - 7s 4ms/step - loss: 0.1340 - accuracy: 0.9493 - val_loss: 0.2561 - val_accuracy: 0.9183\n",
            "Epoch 9/10\n",
            "1500/1500 [==============================] - 6s 4ms/step - loss: 0.1207 - accuracy: 0.9561 - val_loss: 0.2664 - val_accuracy: 0.9162\n",
            "Epoch 10/10\n",
            "1500/1500 [==============================] - 6s 4ms/step - loss: 0.1082 - accuracy: 0.9596 - val_loss: 0.2698 - val_accuracy: 0.9169\n",
            "375/375 [==============================] - 1s 3ms/step - loss: 0.2698 - accuracy: 0.9169\n",
            "\n",
            "> 91.692\n"
          ]
        }
      ]
    },
    {
      "cell_type": "code",
      "source": [
        "performance_visualization(histories_improved_1)"
      ],
      "metadata": {
        "colab": {
          "base_uri": "https://localhost:8080/",
          "height": 370
        },
        "id": "aVdsAeFcTmvv",
        "outputId": "b5bdb844-88b1-4845-8868-642e570b2fc8"
      },
      "execution_count": null,
      "outputs": [
        {
          "output_type": "stream",
          "name": "stderr",
          "text": [
            "/usr/local/lib/python3.7/dist-packages/ipykernel_launcher.py:3: MatplotlibDeprecationWarning: Adding an axes using the same arguments as a previous axes currently reuses the earlier instance.  In a future version, a new instance will always be created and returned.  Meanwhile, this warning can be suppressed, and the future behavior ensured, by passing a unique label to each axes instance.\n",
            "  This is separate from the ipykernel package so we can avoid doing imports until\n",
            "/usr/local/lib/python3.7/dist-packages/ipykernel_launcher.py:7: MatplotlibDeprecationWarning: Adding an axes using the same arguments as a previous axes currently reuses the earlier instance.  In a future version, a new instance will always be created and returned.  Meanwhile, this warning can be suppressed, and the future behavior ensured, by passing a unique label to each axes instance.\n",
            "  import sys\n"
          ]
        },
        {
          "output_type": "display_data",
          "data": {
            "image/png": "[encoded data removed]",
            "text/plain": [
              "<Figure size 432x288 with 2 Axes>"
            ]
          },
          "metadata": {
            "needs_background": "light"
          }
        }
      ]
    },
    {
      "cell_type": "code",
      "source": [
        "performance_summarization(scores_improved_1)"
      ],
      "metadata": {
        "colab": {
          "base_uri": "https://localhost:8080/",
          "height": 282
        },
        "id": "9N7e1Uw6Tmvw",
        "outputId": "932fb4de-6d21-480c-87d3-e6604b5ac400"
      },
      "execution_count": null,
      "outputs": [
        {
          "output_type": "stream",
          "name": "stdout",
          "text": [
            "Accuracies: mean = 91.41, std = 0.00 n = 5\n"
          ]
        },
        {
          "output_type": "display_data",
          "data": {
            "image/png": "[encoded data removed]",
            "text/plain": [
              "<Figure size 432x288 with 1 Axes>"
            ]
          },
          "metadata": {
            "needs_background": "light"
          }
        }
      ]
    },
    {
      "cell_type": "markdown",
      "source": [
        "# Using the best model from the above three models"
      ],
      "metadata": {
        "id": "Pc0Aj11cUGD1"
      }
    },
    {
      "cell_type": "code",
      "source": [
        "model = define_model_improved_2()"
      ],
      "metadata": {
        "id": "-QmeC47qUFZB"
      },
      "execution_count": null,
      "outputs": []
    },
    {
      "cell_type": "code",
      "source": [
        "model.fit(trainX,trainY,epochs=10, batch_size=32)"
      ],
      "metadata": {
        "colab": {
          "base_uri": "https://localhost:8080/"
        },
        "id": "z0EPi3rLUFb8",
        "outputId": "41042b85-a953-43f4-e1cf-b06b02ce6719"
      },
      "execution_count": null,
      "outputs": [
        {
          "output_type": "stream",
          "name": "stdout",
          "text": [
            "Epoch 1/10\n",
            "1875/1875 [==============================] - 7s 4ms/step - loss: 0.3925 - accuracy: 0.8581\n",
            "Epoch 2/10\n",
            "1875/1875 [==============================] - 7s 4ms/step - loss: 0.2570 - accuracy: 0.9053\n",
            "Epoch 3/10\n",
            "1875/1875 [==============================] - 7s 4ms/step - loss: 0.2143 - accuracy: 0.9217\n",
            "Epoch 4/10\n",
            "1875/1875 [==============================] - 7s 3ms/step - loss: 0.1845 - accuracy: 0.9318\n",
            "Epoch 5/10\n",
            "1875/1875 [==============================] - 7s 3ms/step - loss: 0.1654 - accuracy: 0.9384\n",
            "Epoch 6/10\n",
            "1875/1875 [==============================] - 7s 3ms/step - loss: 0.1422 - accuracy: 0.9477\n",
            "Epoch 7/10\n",
            "1875/1875 [==============================] - 7s 4ms/step - loss: 0.1240 - accuracy: 0.9549\n",
            "Epoch 8/10\n",
            "1875/1875 [==============================] - 7s 3ms/step - loss: 0.1095 - accuracy: 0.9585\n",
            "Epoch 9/10\n",
            "1875/1875 [==============================] - 7s 4ms/step - loss: 0.0929 - accuracy: 0.9650\n",
            "Epoch 10/10\n",
            "1875/1875 [==============================] - 7s 4ms/step - loss: 0.0813 - accuracy: 0.9692\n"
          ]
        },
        {
          "output_type": "execute_result",
          "data": {
            "text/plain": [
              "<keras.callbacks.History at 0x7fec562d0950>"
            ]
          },
          "metadata": {},
          "execution_count": 20
        }
      ]
    },
    {
      "cell_type": "code",
      "source": [
        "_,acc = model.evaluate(testX, testY)"
      ],
      "metadata": {
        "colab": {
          "base_uri": "https://localhost:8080/"
        },
        "id": "gNWJYC4wUbq2",
        "outputId": "e7da6c1a-6c3e-465e-e40a-4ffd63911632"
      },
      "execution_count": null,
      "outputs": [
        {
          "output_type": "stream",
          "name": "stdout",
          "text": [
            "313/313 [==============================] - 1s 3ms/step - loss: 0.2921 - accuracy: 0.9080\n"
          ]
        }
      ]
    },
    {
      "cell_type": "code",
      "source": [
        "print(\"> %.3f\" % (acc*100.0))"
      ],
      "metadata": {
        "colab": {
          "base_uri": "https://localhost:8080/"
        },
        "id": "zEAWbYpeUdZC",
        "outputId": "049f8aca-80e5-4f38-d781-12de7092b59c"
      },
      "execution_count": null,
      "outputs": [
        {
          "output_type": "stream",
          "name": "stdout",
          "text": [
            "> 90.800\n"
          ]
        }
      ]
    }
  ]
}